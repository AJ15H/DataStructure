{
 "cells": [
  {
   "cell_type": "markdown",
   "id": "cb4e4874",
   "metadata": {},
   "source": [
    "## 정수 배열에서 가장 큰 두 수를 찾기"
   ]
  },
  {
   "cell_type": "code",
   "execution_count": 25,
   "id": "dc9db014",
   "metadata": {},
   "outputs": [],
   "source": [
    "# 정수로 이루어진 배열이 인자로 주어질 때, \n",
    "# 가장 큰 두 수를 찾아 (가장 큰 값, 둘째로 큰 값)을 반환하는 함수를 완성하라\n",
    "\n",
    "# 입력: [3, -1, 5, 0, 7, 4, 9, 1], 출력: [9, 7]\n",
    "# 입력: [7], 출력: [7]\n",
    "\n",
    "# 포인터 방식\n",
    "\n",
    "def max_two(arr):\n",
    "    if len(arr)<2:\n",
    "        return arr\n",
    "    max1, max2=arr[:2]\n",
    "    if max2>max1:\n",
    "        max1,max2=max2,max1\n",
    "    for n in arr[2:]:\n",
    "        if n>max1:\n",
    "            max1,max2=n,max1\n",
    "        elif n>max2:\n",
    "            max2=n\n",
    "    return [max1,max2]\n"
   ]
  },
  {
   "cell_type": "code",
   "execution_count": 26,
   "id": "42df69af",
   "metadata": {},
   "outputs": [
    {
     "data": {
      "text/plain": [
       "[9, 7]"
      ]
     },
     "execution_count": 26,
     "metadata": {},
     "output_type": "execute_result"
    }
   ],
   "source": [
    "max_two([3, -1, 5, 0, 7, 4, 9, 1])"
   ]
  },
  {
   "cell_type": "code",
   "execution_count": 6,
   "id": "5e1b2913",
   "metadata": {},
   "outputs": [
    {
     "data": {
      "text/plain": [
       "[7]"
      ]
     },
     "execution_count": 6,
     "metadata": {},
     "output_type": "execute_result"
    }
   ],
   "source": [
    "max_two([7])"
   ]
  },
  {
   "cell_type": "markdown",
   "id": "a86eeb7c",
   "metadata": {},
   "source": [
    "## 회문(Palindromes) 찾기"
   ]
  },
  {
   "cell_type": "code",
   "execution_count": 39,
   "id": "308ad475",
   "metadata": {},
   "outputs": [],
   "source": [
    "# 주어진 문자열이 회문이면 True, 회문이 아니면 False를 반환하라.\n",
    "\n",
    "# 입력: madam, 출력: True\n",
    "# 입력: tomato, 출력: False\n",
    "\n",
    "# 방법 1 - 리스트 사용 (내 방식)\n",
    "# def str_oao(word):\n",
    "#     a= list(word)\n",
    "#     a.reverse()\n",
    "#     drow=''.join(a)\n",
    "#     if word==drow:\n",
    "#         return True\n",
    "#     else:\n",
    "#         return False\n",
    "\n",
    "# 방법 2 - 슬라이싱 사용\n",
    "def str_oao(word):\n",
    "    if word==word[::-1]:\n",
    "        return True\n",
    "    else:\n",
    "        return False\n"
   ]
  },
  {
   "cell_type": "code",
   "execution_count": 40,
   "id": "d78c96dc",
   "metadata": {},
   "outputs": [
    {
     "data": {
      "text/plain": [
       "True"
      ]
     },
     "execution_count": 40,
     "metadata": {},
     "output_type": "execute_result"
    }
   ],
   "source": [
    "str_oao(\"tot\")"
   ]
  },
  {
   "cell_type": "code",
   "execution_count": 41,
   "id": "7f0bd2e4",
   "metadata": {},
   "outputs": [
    {
     "data": {
      "text/plain": [
       "True"
      ]
     },
     "execution_count": 41,
     "metadata": {},
     "output_type": "execute_result"
    }
   ],
   "source": [
    "str_oao(\"madam\")"
   ]
  },
  {
   "cell_type": "code",
   "execution_count": 43,
   "id": "d38a604c",
   "metadata": {},
   "outputs": [
    {
     "data": {
      "text/plain": [
       "False"
      ]
     },
     "execution_count": 43,
     "metadata": {},
     "output_type": "execute_result"
    }
   ],
   "source": [
    "str_oao(\"tomato\")"
   ]
  },
  {
   "cell_type": "code",
   "execution_count": 45,
   "id": "34c97779",
   "metadata": {},
   "outputs": [
    {
     "data": {
      "text/plain": [
       "True"
      ]
     },
     "execution_count": 45,
     "metadata": {},
     "output_type": "execute_result"
    }
   ],
   "source": [
    "str_oao(\"토마토\")"
   ]
  },
  {
   "cell_type": "markdown",
   "id": "89b79393",
   "metadata": {},
   "source": [
    "## 0과 1로 구성된 배열을 정렬하기"
   ]
  },
  {
   "cell_type": "code",
   "execution_count": 1,
   "id": "d9bd9e03",
   "metadata": {},
   "outputs": [],
   "source": [
    "# 0과 1로 이루어진 배열이 있다. 배열 자체를 오름차순으로 정렬하라.\n",
    "\n",
    "# 입력: [1, 0, 1, 1, 1, 1, 1, 0, 0, 0], 출력: [0, 0, 0, 0, 1, 1, 1, 1, 1, 1]\n",
    "# 입력: [1, 1], 출력: [1, 1]"
   ]
  },
  {
   "cell_type": "code",
   "execution_count": 72,
   "id": "e4c61444",
   "metadata": {},
   "outputs": [],
   "source": [
    "# 방법 1 - count 메서드 사용\n",
    "# def sort_(arr):\n",
    "#     count1=0\n",
    "#     count2=0\n",
    "#     answer=[]\n",
    "#     for i in range(len(arr)):\n",
    "#         if arr[i]==0:\n",
    "#             count1+=1\n",
    "#         else:\n",
    "#             count2+=1\n",
    "#     answer=list(map(int, \"0\"*count1))\n",
    "#     answer.extend(map(int,\"1\"*count2))\n",
    "    \n",
    "#     return answer\n"
   ]
  },
  {
   "cell_type": "code",
   "execution_count": 92,
   "id": "ffe87202",
   "metadata": {},
   "outputs": [],
   "source": [
    "# 방법 1 - 정답\n",
    "\n",
    "# def sort_(arr):\n",
    "#     arr[:]=[0]*arr.count(0)+[1]*arr.count(1)\n",
    "#     return arr"
   ]
  },
  {
   "cell_type": "code",
   "execution_count": 99,
   "id": "a85b8bb3",
   "metadata": {},
   "outputs": [],
   "source": [
    "# 방법 2 - 포인터 두 개를 이용하기\n",
    "\n",
    "def sort_(arr):\n",
    "    left,right = 0, len(arr)-1\n",
    "    while left<right:\n",
    "        while left < len(arr) and arr[left]==0:\n",
    "            left += 1\n",
    "        while right >=0 and arr[right]==1:\n",
    "            right -= 1\n",
    "        if left<right:\n",
    "            arr[left], arr[right] = 0,1\n",
    "            left,right =left+1, right-1\n",
    "    return arr\n"
   ]
  },
  {
   "cell_type": "code",
   "execution_count": 4,
   "id": "9c5467f6",
   "metadata": {},
   "outputs": [],
   "source": [
    "# 방법 3 - 내 방식\n",
    "# def sort_(arr):\n",
    "#     return sorted(arr)"
   ]
  },
  {
   "cell_type": "code",
   "execution_count": 100,
   "id": "ba1eed20",
   "metadata": {},
   "outputs": [
    {
     "data": {
      "text/plain": [
       "[0, 0, 0, 0, 1, 1, 1, 1, 1, 1]"
      ]
     },
     "execution_count": 100,
     "metadata": {},
     "output_type": "execute_result"
    }
   ],
   "source": [
    "sort_([1, 0, 1, 1, 1, 1, 1, 0, 0, 0])"
   ]
  },
  {
   "cell_type": "code",
   "execution_count": 101,
   "id": "aadd95d0",
   "metadata": {},
   "outputs": [
    {
     "data": {
      "text/plain": [
       "[1, 1]"
      ]
     },
     "execution_count": 101,
     "metadata": {},
     "output_type": "execute_result"
    }
   ],
   "source": [
    "sort_([1, 1])"
   ]
  },
  {
   "cell_type": "markdown",
   "id": "8f331f43",
   "metadata": {},
   "source": [
    "## 제시된 합을 가진 부분 배열 찾기"
   ]
  },
  {
   "cell_type": "code",
   "execution_count": null,
   "id": "3da07865",
   "metadata": {},
   "outputs": [],
   "source": [
    "# 정렬되지 않은 양의 정수로 이루어진 배열 A가 있다. \n",
    "# 연속된 원소를 더한 값이 제시된 값 S와 같은 부분 배열을 찾아라. \n",
    "# (인덱스 기준은 1이다.)\n",
    "\n",
    "# 입력: arr = [1, 2, 3, 7, 5], s = 12, 출력: [2, 4]\n",
    "# 인덱스 2부터 4까지의 합: 2 + 3 + 7 = 12\n",
    "# 입력: arr = [1, 2, 3, 4, 5, 6, 7, 8, 9, 10], s = 15, 출력: [1, 5]"
   ]
  },
  {
   "cell_type": "code",
   "execution_count": 103,
   "id": "3bd1b2f0",
   "metadata": {},
   "outputs": [],
   "source": [
    "# 방법 1 - 이중 반복문으로 풀기\n",
    "\n",
    "# def sum_sort(arr, s):\n",
    "#     for i in range(len(arr)):\n",
    "#         answer=0\n",
    "#         for j in range(i,len(arr)):\n",
    "#             answer += arr[j]\n",
    "#             if answer == s:\n",
    "#                 return [i+1, j+1]\n",
    "#     return [-1]\n"
   ]
  },
  {
   "cell_type": "code",
   "execution_count": 120,
   "id": "4d0fbca2",
   "metadata": {},
   "outputs": [],
   "source": [
    "# 방법 2 - 포인터 두 개를 이용하기\n",
    "\n",
    "def sum_sort(arr,s):\n",
    "    left, total=0,0\n",
    "    for right in range(len(arr)):\n",
    "        total += arr[right]\n",
    "        if total==s:\n",
    "            return [left+1, right+1]\n",
    "        elif total>s:\n",
    "            total-=arr[left]\n",
    "            left +=1\n",
    "    return [left, right]"
   ]
  },
  {
   "cell_type": "code",
   "execution_count": 121,
   "id": "db6273e3",
   "metadata": {},
   "outputs": [
    {
     "data": {
      "text/plain": [
       "[2, 4]"
      ]
     },
     "execution_count": 121,
     "metadata": {},
     "output_type": "execute_result"
    }
   ],
   "source": [
    "sum_sort([1, 2, 3, 7, 5], 12)"
   ]
  },
  {
   "cell_type": "code",
   "execution_count": 115,
   "id": "626a98e4",
   "metadata": {},
   "outputs": [
    {
     "data": {
      "text/plain": [
       "[1, 5]"
      ]
     },
     "execution_count": 115,
     "metadata": {},
     "output_type": "execute_result"
    }
   ],
   "source": [
    "sum_sort([1, 2, 3, 4, 5, 6, 7, 8, 9, 10], 15)"
   ]
  }
 ],
 "metadata": {
  "kernelspec": {
   "display_name": "Python 3 (ipykernel)",
   "language": "python",
   "name": "python3"
  },
  "language_info": {
   "codemirror_mode": {
    "name": "ipython",
    "version": 3
   },
   "file_extension": ".py",
   "mimetype": "text/x-python",
   "name": "python",
   "nbconvert_exporter": "python",
   "pygments_lexer": "ipython3",
   "version": "3.11.5"
  }
 },
 "nbformat": 4,
 "nbformat_minor": 5
}
